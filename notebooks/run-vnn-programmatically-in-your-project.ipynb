{
 "cells": [
  {
   "cell_type": "markdown",
   "id": "c52952c6-8a41-4382-9736-6e39ac66d5a7",
   "metadata": {},
   "source": [
    "# Step-by-step Guide: Run Cell Maps VNN programmatically in your project\n",
    "\n",
    "This tutorial demonstrates how to use the cellmaps_vnn package programmatically, providing full control and flexibility to integrate it into your own Python projects or pipelines. Rather than relying on command-line usage, you will learn how to perform all key steps—such as training, predicting, annotating, and interpreting VNN (Virtual Neuron Network) models—through direct Python function calls.\n",
    "\n",
    "#### This is especially useful when:\n",
    "- Automating workflows across many datasets\n",
    "- Integrating VNN functionality into larger analysis pipelines\n",
    "- Running in cloud environments or Jupyter notebooks\n",
    "- Customizing and extending the VNN pipeline\n",
    "\n",
    "#### Tutorial\n",
    "This guide walks you through integrating cellmaps_vnn into a Python project using its core programmatic interface via CellmapsvnnRunner. All examples use the demo data provided in the examples/ directory."
   ]
  },
  {
   "cell_type": "markdown",
   "id": "38de0b7a-a997-4484-96e2-46e7622d0d4c",
   "metadata": {},
   "source": [
    "### Installation\n",
    "\n",
    "It is highly recommended to create conda virtual environment and run jupyter from there.\n",
    "\n",
    "`conda create -n vnn_env python=3.11`\n",
    "\n",
    "`conda activate vnn_env`\n",
    "\n",
    "To install Cellmaps Pipeline run:\n",
    "\n",
    "`pip install cellmaps_vnn`\n",
    "\n",
    "Exit the notebook and reopen it in `vnn_env` environtment."
   ]
  },
  {
   "cell_type": "markdown",
   "id": "4cac0b97-811a-4746-9cd1-3dccb469ab5c",
   "metadata": {},
   "source": [
    "### Setup and Input Data"
   ]
  },
  {
   "cell_type": "code",
   "execution_count": 5,
   "id": "b5166a1a-8721-4bcd-a03b-4f1b36b6c7fd",
   "metadata": {
    "jp-MarkdownHeadingCollapsed": true
   },
   "outputs": [],
   "source": [
    "from cellmaps_vnn.train import VNNTrain\n",
    "from cellmaps_vnn.predict import VNNPredict\n",
    "from cellmaps_vnn.annotate import VNNAnnotate\n",
    "from cellmaps_vnn.runner import CellmapsvnnRunner\n",
    "\n",
    "# Input directory for training (directory with hierarchy.cx2)\n",
    "inputdir = '../examples/'\n",
    "\n",
    "# Training and test data\n",
    "training_data_path = '../examples/training_data.txt'\n",
    "test_data = '../examples/test_data.txt'\n",
    "\n",
    "# Cell feature data\n",
    "gene2id = '../examples/gene2ind.txt'\n",
    "cell2id = '../examples/cell2ind.txt'\n",
    "mutations = '../examples/cell2mutation.txt'\n",
    "cn_deletions = '../examples/cell2cndeletion.txt'\n",
    "cn_amplifications = '../examples/cell2cnamplification.txt'\n",
    "\n",
    "# Output directories\n",
    "train_outdir = './out_train'\n",
    "predict_outdir = './out_predict'\n",
    "annotate_outdir = './out_annotate'\n",
    "\n",
    "# Optionally: Specify desired parameters. \n",
    "# This is only example, the list of all parameters is available at \n",
    "# https://cellmaps-vnn.readthedocs.io/en/latest/usage_command_line.html\n",
    "epoch = 30\n",
    "lr = 0.0005\n",
    "zscore_method = 'auc'"
   ]
  },
  {
   "cell_type": "markdown",
   "id": "5096b868-d012-4d9e-82b3-841e7503aad4",
   "metadata": {},
   "source": [
    "### Training of VNN Model\n",
    "\n",
    "In this step, we train a Visible Neural Network (VNN) using cell features and drug response data. The output includes the trained model and logs.\n",
    "\n",
    "What this does:\n",
    "- Loads cell and gene data (IDs and features).\n",
    "- Uses training response data (e.g., drug sensitivity).\n",
    "- Builds and trains a biologically structured neural network guided by a functional hierarchy.\n",
    "- Outputs a trained model, ready for prediction."
   ]
  },
  {
   "cell_type": "code",
   "execution_count": 6,
   "id": "2e3b221a-f4db-4fc6-909c-43ee3081659f",
   "metadata": {},
   "outputs": [
    {
     "name": "stderr",
     "output_type": "stream",
     "text": [
      "No hierarchy parent in the input directory. Cannot copy.\n"
     ]
    },
    {
     "data": {
      "text/plain": [
       "0"
      ]
     },
     "execution_count": 6,
     "metadata": {},
     "output_type": "execute_result"
    }
   ],
   "source": [
    "train_cmd = VNNTrain(\n",
    "    outdir=train_outdir,\n",
    "    inputdir=inputdir,\n",
    "    training_data=training_data_path,\n",
    "    gene2id=gene2id,\n",
    "    cell2id=cell2id,\n",
    "    mutations=mutations,\n",
    "    cn_deletions=cn_deletions,\n",
    "    cn_amplifications=cn_amplifications,\n",
    "    epoch=epoch,\n",
    "    lr=lr,\n",
    "    zscore_method=zscore_method\n",
    ")\n",
    "\n",
    "runner = CellmapsvnnRunner(\n",
    "    outdir=train_outdir,\n",
    "    command=train_cmd,\n",
    "    inputdir=inputdir\n",
    ")\n",
    "\n",
    "runner.run()"
   ]
  },
  {
   "cell_type": "markdown",
   "id": "6de702a9-3ac8-40c5-8622-d81398d01ba2",
   "metadata": {},
   "source": [
    "### Predict with Trained Model\n",
    "\n",
    "Now that we have a trained model, we can apply it to new test data (e.g., unseen cell lines) to generate predicted outcomes. This step uses the trained VNN model to make predictions on test samples and automatically performs interpretation using biological knowledge.\n",
    "\n",
    "What this does:\n",
    "- Uses the trained model to make predictions on test samples.\n",
    "- Inputs the same molecular features (genes, mutations, CNVs).\n",
    "- Outputs a file with predicted values for each test sample and feature of interest (e.g., drug response).\n",
    "- Computes interpretation scores:\n",
    "    - RLIPP scores (Relative Importance of Predictor Performance) quantify how much each biological term (e.g., pathway, process) contributes to the model's predictions.\n",
    "    - Gene importance scores estimate which genes most influence the prediction. (**NOT IMPLEMENTED**: for now it generates random scores)"
   ]
  },
  {
   "cell_type": "code",
   "execution_count": 7,
   "id": "3304f06c-4d32-496a-8201-24172809987a",
   "metadata": {},
   "outputs": [
    {
     "name": "stdout",
     "output_type": "stream",
     "text": [
      "Starting prediction process\n",
      "Starting score calculation\n"
     ]
    },
    {
     "name": "stderr",
     "output_type": "stream",
     "text": [
      "/Users/jlenkiewicz/anaconda3/envs/cellmaps_env/lib/python3.8/site-packages/scipy/stats/_stats_py.py:4916: ConstantInputWarning: An input array is constant; the correlation coefficient is not defined.\n",
      "  warnings.warn(stats.ConstantInputWarning(warn_msg))\n"
     ]
    },
    {
     "name": "stdout",
     "output_type": "stream",
     "text": [
      "Prediction and interpretation executed successfully\n"
     ]
    },
    {
     "name": "stderr",
     "output_type": "stream",
     "text": [
      "FAIRSCAPE hidden files registration:   0%|▍                                                                                                                                         | 5/1698 [00:00<04:50,  5.82it/s]FAIRSCAPE cannot handle too many files, skipping rest\n",
      "FAIRSCAPE hidden files registration:   0%|▍                                                                                                                                         | 5/1698 [00:01<05:49,  4.84it/s]\n"
     ]
    },
    {
     "data": {
      "text/plain": [
       "0"
      ]
     },
     "execution_count": 7,
     "metadata": {},
     "output_type": "execute_result"
    }
   ],
   "source": [
    "predict_cmd = VNNPredict(\n",
    "    outdir=predict_outdir,\n",
    "    inputdir=train_outdir,  # use model from training output\n",
    "    predict_data=test_data,\n",
    "    gene2id=gene2id,\n",
    "    cell2id=cell2id,\n",
    "    mutations=mutations,\n",
    "    cn_deletions=cn_deletions,\n",
    "    cn_amplifications=cn_amplifications,\n",
    "    zscore_method=zscore_method\n",
    ")\n",
    "\n",
    "runner = CellmapsvnnRunner(\n",
    "    outdir=predict_outdir,\n",
    "    command=predict_cmd,\n",
    "    inputdir=train_outdir\n",
    ")\n",
    "\n",
    "runner.run()"
   ]
  },
  {
   "cell_type": "markdown",
   "id": "4656d71f-3e07-4395-8004-e8050326ceff",
   "metadata": {},
   "source": [
    "### Annotate Hierarchy with Importance Scores\n",
    "\n",
    "In the final step, we enrich the biological hierarchy used during model training with importance scores derived from the predictions.\n",
    "\n",
    "What this does:\n",
    "- Reads model interpretation results (e.g., RLIPP scores) from the prediction output.\n",
    "- Annotates a biological hierarchy (e.g., pathway network) by assigning term-level importance scores such as: P_rho, C_rho, and RLIPP for each system or pathway node.\n",
    "- Optionally filters annotations by disease, or aggregates scores across diseases if not specified.\n",
    "- Adds edge-level scores to visualize importance propagation along the hierarchy.\n",
    "- Outputs a styled, annotated CX2 network suitable for NDEx visualization and biological interpretation."
   ]
  },
  {
   "cell_type": "code",
   "execution_count": 8,
   "id": "0aae0ab3-4900-426d-89a3-2f6098258d52",
   "metadata": {},
   "outputs": [
    {
     "data": {
      "text/plain": [
       "0"
      ]
     },
     "execution_count": 8,
     "metadata": {},
     "output_type": "execute_result"
    }
   ],
   "source": [
    "annotate_cmd = VNNAnnotate(\n",
    "    outdir=annotate_outdir,\n",
    "    model_predictions=[predict_outdir],\n",
    "    hierarchy=hierarchy_file\n",
    ")\n",
    "\n",
    "runner = CellmapsvnnRunner(\n",
    "    outdir=annotate_outdir,\n",
    "    command=annotate_cmd,\n",
    "    inputdir=predict_outdir\n",
    ")\n",
    "\n",
    "runner.run()"
   ]
  },
  {
   "cell_type": "markdown",
   "id": "01428f2a-d1b9-47d3-98d9-545ac02e1c19",
   "metadata": {},
   "source": [
    "#### Optional: Upload to NDEx\n",
    "If NDEx credentials are provided, the annotated hierarchy and associated interactomes (gene subnetworks for key systems) can be uploaded for public sharing and visualization in Cytoscape Web."
   ]
  },
  {
   "cell_type": "code",
   "execution_count": 13,
   "id": "79169904-f27f-4837-b495-f88025ffb2f9",
   "metadata": {},
   "outputs": [],
   "source": [
    "annotate_vis_outdir = 'out_annotate_vis'\n",
    "\n",
    "annotate_cmd = VNNAnnotate(\n",
    "    outdir=annotate_vis_outdir,\n",
    "    model_predictions=[predict_outdir],\n",
    "    hierarchy=hierarchy_file,\n",
    "    parent_network='0b7b8aee-332f-11ef-9621-005056ae23aa' # UUID of interactome\n",
    "    ndexserver='ndexbio.org',\n",
    "    ndexuser='USER',               # replace with your NDEx username\n",
    "    ndexpassword='PASSWORD',       # replace with your NDEx password\n",
    "    visibility=True                # Make uploaded networks public (optional)\n",
    ")\n",
    "\n",
    "runner = CellmapsvnnRunner(\n",
    "    outdir=annotate_vis_outdir,\n",
    "    command=annotate_cmd,\n",
    "    inputdir=predict_outdir\n",
    ")\n",
    "\n",
    "runner.run()"
   ]
  },
  {
   "cell_type": "code",
   "execution_count": null,
   "id": "54af580e-f6c5-4c70-b9b2-0784e5351df7",
   "metadata": {},
   "outputs": [],
   "source": []
  }
 ],
 "metadata": {
  "kernelspec": {
   "display_name": "Python 3 (ipykernel)",
   "language": "python",
   "name": "python3"
  },
  "language_info": {
   "codemirror_mode": {
    "name": "ipython",
    "version": 3
   },
   "file_extension": ".py",
   "mimetype": "text/x-python",
   "name": "python",
   "nbconvert_exporter": "python",
   "pygments_lexer": "ipython3",
   "version": "3.8.18"
  }
 },
 "nbformat": 4,
 "nbformat_minor": 5
}
