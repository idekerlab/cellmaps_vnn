{
 "cells": [
  {
   "cell_type": "markdown",
   "id": "c52952c6-8a41-4382-9736-6e39ac66d5a7",
   "metadata": {},
   "source": [
    "# Step-by-step Guide: Running Cellmaps VNN\n",
    "\n",
    "The Cell Maps VNN Tool allows to create an interpretable neural network-based model that predicts cell response to a drug. The tool uses hierarchy in HCX format to create visible neural network that incorporates given input features. Then the tools allows training the model and perform predictions of cell response to a drug.\n",
    "\n",
    "The tool creates an output directory (for both training and prediction) where results are stored and registered within Research Object Crates (RO-Crate) using the FAIRSCAPE-cli.\n",
    "\n",
    "### Goals of VNN\n",
    "- Predicts cell response to a drug\n",
    "- Explainable data-driven method\n",
    "- Constructs the neural network to mirror the hierarchical organization of a cell\n",
    "\n",
    "### Overview of VNN Workflow\n",
    "\n",
    "<img src=\"../docs/images/cellmaps_vnn_general.png\" alt=\"VNN Workflow Overview\" style=\"width:70%;\">"
   ]
  },
  {
   "cell_type": "markdown",
   "id": "38de0b7a-a997-4484-96e2-46e7622d0d4c",
   "metadata": {},
   "source": [
    "### Installation\n",
    "\n",
    "It is highly recommended to create conda virtual environment and run jupyter from there.\n",
    "\n",
    "`conda create -n vnn_env python=3.8`\n",
    "\n",
    "`conda activate vnn_env`\n",
    "\n",
    "To install Cellmaps Pipeline run:\n",
    "\n",
    "`pip install cellmaps_vnn`"
   ]
  },
  {
   "cell_type": "markdown",
   "id": "c53c8488-de41-46e7-8af8-b2d18b9d71df",
   "metadata": {},
   "source": [
    "### Drug response data\n",
    "\n",
    "You should have your two separate sets of training and test data. Later, during the training the data is split into training and validation data."
   ]
  },
  {
   "cell_type": "markdown",
   "id": "e67fe47d-8c1a-47f0-9d42-49772fff5d9d",
   "metadata": {},
   "source": [
    "### Cell Feature Data (required for both training and prediction steps)\n",
    "\n",
    "Genetic alteration data: a panel of 718 clinical genes was assembled from the union of genes assessed by FoundationOne CDx, Tempus xT, PALOMA-3 trial or Project GENIE, each of which assesses mutations and/or copy number aberrations. To compile genotypes for all cell lines, non-synonymous coding mutations and copy number alterations were extracted for the 718 clinical panel genes from the Cancer Cell Line Encyclopedia. ([Park et al. Nat Cancer (2024)](https://doi.org/10.1038/s43018-024-00740-1))\n",
    "\n",
    "- `gene2ind.txt`:\n",
    "  \n",
    "    A tab-delimited file where the 1st column is index of genes and the 2nd column is the name of genes.\n",
    "\n",
    "    ```\n",
    "    0       ABCB1\n",
    "    1       ABCC3\n",
    "    2       ABL1\n",
    "    ```\n",
    "    <br/>\n",
    "- `cell2ind.txt`:\n",
    "  \n",
    "    A tab-delimited file where the 1st column is index of cells and the 2nd column is the name of cells (genotypes).\n",
    "\n",
    "    ```\n",
    "    0       201T_LUNG\n",
    "    1       22RV1_PROSTATE\n",
    "    2       2313287_STOMACH\n",
    "    ```\n",
    "    <br/>\n",
    "- `cell2mutation.txt`:\n",
    "    A comma-delimited file where each row has 718 binary values indicating each gene is mutated (1) or not (0). The column index of each gene should match with those in gene2ind.txt file. The line number should match with the indices of cells in cell2ind.txt file.\n",
    "    ```\n",
    "    0,0,1,0,0,0..\n",
    "    0,0,0,0,1,0..\n",
    "    0,0,0,0,0,0..\n",
    "    ```\n",
    "    <br/>\n",
    "- `cell2cndeletion.txt`:\n",
    "    A comma-delimited file where each row has 718 binary values indicating copy number deletion (1) (0 for no copy number deletion).\n",
    "    ```\n",
    "    0,0,0,0,0,0..\n",
    "    0,1,0,0,0,0..\n",
    "    0,0,0,0,1,0..\n",
    "    ```\n",
    "    <br/>\n",
    "- `cell2amplification.txt`:\n",
    "    A comma-delimited file where each row has 718 binary values indicating copy number amplification (1) (0 for no copy number amplification).\n",
    "    ```    \n",
    "    0,0,0,0,0,0..\n",
    "    0,0,0,1,0,0..\n",
    "    0,1,0,0,0,0..\n",
    "    ```"
   ]
  },
  {
   "cell_type": "markdown",
   "id": "428e9da5-e94f-4b7e-a098-6f04375cbf9c",
   "metadata": {},
   "source": [
    "### Input Data for Training\n",
    "\n",
    "Drug response data were obtained by harmonizing the Cancer Therapeutics Response Portal (CTRP) and Genomics of Drug Sensitivity in Cancer (GDSC) databases.([Park et al. Nat Cancer (2024)](https://doi.org/10.1038/s43018-024-00740-1))\n",
    "\n",
    "The data from the two datasets were harmonized as follows. Drug information: each molecule’s published name, synonym or SMILES (Simplified Molecular Input Line Entry System) string was queried using PubChemPy. The associated InChIKey was extracted and used to identify duplicate drugs (within or between datasets). Cell viability data: for CTRP, the vehicle control-normalized average percent viability files were used.([Park et al. Nat Cancer (2024)](https://doi.org/10.1038/s43018-024-00740-1))\n",
    "\n",
    "\n",
    "- `training_data.txt`:\n",
    "    A tab-delimited file containing all data points that you want to use to train the model. The 1st column is identification of cells (genotypes), the 2nd column is a SMILES string of the drug and the 3rd column is an observed drug response in a floating point number, and the 4th column is source where the data was obtained from.\n",
    "    ```\n",
    "    HS633T_SOFT_TISSUE              CC1=C(C(=O)N(C2=NC(=NC=C12)NC3=NC=C(C=C3)N4CCNCC4)C5CCCC5)C(=O)C     0.67   GDSC2\n",
    "    KINGS1_CENTRAL_NERVOUS_SYSTEM   CC1=C(C(=O)N(C2=NC(=NC=C12)NC3=NC=C(C=C3)N4CCNCC4)C5CCCC5)C(=O)C     0.64   GDSC1\n",
    "    ```\n",
    "    <br/>\n",
    "\n",
    "- `hierarchy.cx2`:\n",
    "    Hierarchy in HCX format used to create a visible neural network.\n",
    "\n",
    "<img src=\"../docs/images/nest_vnn.png\" alt=\"VNN Training\" style=\"width:70%;\">"
   ]
  },
  {
   "cell_type": "markdown",
   "id": "2f905eb5-b046-404d-a636-5e7e5880a992",
   "metadata": {},
   "source": [
    "### Training command"
   ]
  },
  {
   "cell_type": "code",
   "execution_count": 2,
   "id": "2e7fb674-40c4-49b6-b82a-9e5a46cf558e",
   "metadata": {},
   "outputs": [],
   "source": [
    "!cellmaps_vnncmd.py train ./6.cellmaps_vnn --inputdir ../examples --gene2id ../examples/gene2ind.txt --cell2id ../examples/cell2ind.txt --training_data ../examples/training_data.txt --mutations ../examples/cell2mutation.txt --cn_deletions ../examples/cell2cndeletion.txt --cn_amplifications ../examples/cell2cnamplification.txt --genotype_hiddens 4 --lr 0.0005 --epoch 30 --batchsize 64 --optimize 1 --zscore_method auc"
   ]
  },
  {
   "cell_type": "markdown",
   "id": "58e8f3f1-5912-4eb9-8ac8-f0cb26aad869",
   "metadata": {},
   "source": [
    "For required and optional arguments refer to [documentation](https://cellmaps-vnn.readthedocs.io/en/latest/usage_command_line.html#training-mode-and-prediction-and-interpretation-mode)."
   ]
  },
  {
   "cell_type": "markdown",
   "id": "9eca302a-7238-412e-8eda-c625bee91310",
   "metadata": {},
   "source": [
    "### Training Outputs\n",
    "\n",
    "- `model_final.pt`:\n",
    "    The trained model.\n",
    "\n",
    "- `std.txt`:\n",
    "    Standard deviation values for a given training data based on the specified z-score method (‘zscore’ and ‘robustz’).\n",
    "  \n",
    "    ```\n",
    "    GDSC1   0.0     1.0\n",
    "    GDSC2   0.0     1.0\n",
    "    ```"
   ]
  },
  {
   "cell_type": "markdown",
   "id": "e2b83f97-bbdf-46eb-81c3-284a98dd5133",
   "metadata": {},
   "source": [
    "### Input Data for Prediction\n",
    "\n",
    "- `test_data.txt`:\n",
    "    A tab-delimited file containing all data points that you want to estimate drug response for. The 1st column is identification of cells (genotypes), the 2nd column is a SMILES string of the drug and the 3rd column is an observed drug response in a floating point number, and the 4th column is source where the data was obtained from.\n",
    "  \n",
    "    ```\n",
    "    EW24_BONE       CC1=C(C(=O)N(C2=NC(=NC=C12)NC3=NC=C(C=C3)N4CCNCC4)C5CCCC5)C(=O)C    0.99    GDSC1\n",
    "    ES7_BONE\t    CC1=C(C(=O)N(C2=NC(=NC=C12)NC3=NC=C(C=C3)N4CCNCC4)C5CCCC5)C(=O)C\t0.65\tGDSC2\n",
    "    ```\n",
    "    <br/>\n",
    "- `model_final.pt`:\n",
    "    The trained model.\n",
    "\n",
    "  <img src=\"../docs/images/nestvnn_pred_int.png\" alt=\"VNN Drug Response Prediction\" style=\"width:70%;\">"
   ]
  },
  {
   "cell_type": "markdown",
   "id": "858c684d-5314-4717-b3c6-8fca019a0967",
   "metadata": {},
   "source": [
    "### Prediction and Interpretation command"
   ]
  },
  {
   "cell_type": "code",
   "execution_count": 3,
   "id": "26819b44-f09d-4829-92d9-b045335adf37",
   "metadata": {},
   "outputs": [
    {
     "name": "stdout",
     "output_type": "stream",
     "text": [
      "Starting score calculation\n",
      "Time taken to load features: 1.1753\n",
      "/Users/jlenkiewicz/anaconda3/envs/cellmaps_env/lib/python3.8/site-packages/scipy/stats/_stats_py.py:4916: ConstantInputWarning: An input array is constant; the correlation coefficient is not defined.\n",
      "  warnings.warn(stats.ConstantInputWarning(warn_msg))\n",
      "Drug 1 completed in 0.8940 seconds\n",
      "FAIRSCAPE hidden files registration:   0%|     | 5/1698 [00:01<05:46,  4.88it/s]\n"
     ]
    }
   ],
   "source": [
    "!cellmaps_vnncmd.py predict ./7.cellmaps_vnn_prediction --inputdir ./6.cellmaps_vnn --gene2id ../examples/gene2ind.txt --cell2id ../examples/cell2ind.txt --predict_data ../examples/test_data.txt --mutations ../examples/cell2mutation.txt --cn_deletions ../examples/cell2cndeletion.txt --cn_amplifications ../examples/cell2cnamplification.txt --batchsize 64 --zscore_method auc"
   ]
  },
  {
   "cell_type": "markdown",
   "id": "953afc58-550a-49a3-b71f-5a9e30c93975",
   "metadata": {
    "jp-MarkdownHeadingCollapsed": true
   },
   "source": [
    "### Prediction Outputs\n",
    "\n",
    "- `predict.txt`:\n",
    "    File containing prediction results.\n",
    "  \n",
    "    ```\n",
    "    8.3823e-01\n",
    "    7.6122e-01\n",
    "    7.3318e-01\n",
    "    ```\n",
    "    </br>\n",
    "\n",
    "- `predict_feature_grad_0.txt` (`predict_feature_grad_1.txt`, `predict_feature_grad_2.txt`):\n",
    "    Files containing the gradients for each feature.\n",
    "\n",
    "    ```\n",
    "    -3.5083e-04     -1.5043e-03     1.4109e-02      4.2064e-04      -2.6275e-02 ..\n",
    "    7.7715e-03      -2.1520e-02     -5.5406e-03     -1.3177e-03     -4.9724e-05 ..\n",
    "    9.3111e-03      -2.0868e-02     3.6902e-05      6.6282e-03      -3.1622e-03 ..\n",
    "    ```\n",
    "    <br/>\n",
    "    \n",
    "- `hidden directory`:\n",
    "    Directory with files containing the gradients of the hidden layer outputs.\n",
    "\n",
    "- `rlipp.out`:\n",
    "    Output file with interpretation of predictions made by VNN.\n",
    "\n",
    "    ```\n",
    "    Term    P_rho   P_pval  C_rho   C_pval  RLIPP\n",
    "    0       1.000e+00       0.000e+00       9.951e-01       0.000e+00       1.005e+00\n",
    "    1       7.716e-01       5.312e-67       3.923e-01       1.064e-13       1.967e+00\n",
    "    2       5.519e-01       6.151e-28       4.664e-01       2.182e-19       1.183e+00\n",
    "    3       7.867e-01       2.638e-71       7.438e-01       7.026e-60       1.058e+00\n",
    "    ```\n",
    "    <br/>\n",
    "\n",
    "- ``gene_rho.out``:\n",
    "    Output file with Spearman correlation between gene embeddings and predicted AUC.\n",
    "\n",
    "    ```\n",
    "    Gene    Rho     P_val\n",
    "    ABCB1   -1.215e-01      2.667e-02\n",
    "    ABCC3   -9.125e-03      8.682e-01\n",
    "    ABL1    5.741e-02       2.962e-01\n",
    "    ABL2    -5.068e-02      3.565e-01\n",
    "    ```"
   ]
  },
  {
   "cell_type": "markdown",
   "id": "63da6e18-7b29-4adb-994c-305409b04738",
   "metadata": {},
   "source": [
    "### Input Data for Annotation\n",
    "\n",
    "- `rlipp.out`:\n",
    "    File with interpretation scores of the predictions made by VNN model. Disease column is optional.\n",
    "  \n",
    "    ```\n",
    "    Term    P_rho   P_pval  C_rho   C_pval  RLIPP   Disease\n",
    "    NEST    9.99800e-01     0.00000e+00     9.33000e-01     4.10702e-147    1.07150e+00     Leukemia\n",
    "    NEST:6  7.71750e-01     7.47000e-64     7.58600e-01     1.36101e-61     1.01750e+00     Leukemia\n",
    "    NEST:58 6.44850e-01     1.44552e-38     6.62900e-01     1.62600e-40     9.73000e-01     Leukemia\n",
    "    ```\n",
    "    <br/>\n",
    "- ``hierarchy.cx2``:\n",
    "    Hierarchy in HCX format that will be annotated with interpretation results that will help determine importance of the subsystems in the hierarchical network.\n",
    "\n",
    "  <img src=\"../docs/images/nestvnn_annot.png\" alt=\"VNN Hierarchy Annotation\" style=\"width:60%;\">  "
   ]
  },
  {
   "cell_type": "markdown",
   "id": "bb69adb4-9a67-4f88-aa65-e2645808311b",
   "metadata": {},
   "source": [
    "### Annotation command"
   ]
  },
  {
   "cell_type": "code",
   "execution_count": 4,
   "id": "d399ec66-3edb-4a24-bf19-437789a114b5",
   "metadata": {},
   "outputs": [],
   "source": [
    "!cellmaps_vnncmd.py annotate ./8.cellmaps_vnn_annotation --model_predictions ./7.cellmaps_vnn_prediction"
   ]
  },
  {
   "cell_type": "markdown",
   "id": "6356fff0-f46d-4807-8d3c-84a06fd64cdf",
   "metadata": {},
   "source": [
    "### Annotation Outputs\n",
    "\n",
    "- `hierarchy.cx2`:\n",
    "    File with hierarchy in HCX format annotated with interpretation results that will help determine importance of the subsystems in the hierarchical network.\n",
    "\n",
    "- `rlipp.out`:\n",
    "    Aggregated interpretation scores of each provided RO-crates with prediction and interpretation results.\n",
    "    \n",
    "    ```\n",
    "    Term    P_rho   P_pval  C_rho   C_pval  RLIPP   Disease\n",
    "    0       1.00000e+00     0.00000e+00     9.95100e-01     0.00000e+00     1.00500e+00     unspecified\n",
    "    1       7.71600e-01     5.31200e-67     3.92300e-01     1.06400e-13     1.96700e+00     unspecified\n",
    "    2       5.51900e-01     6.15100e-28     4.66400e-01     2.18200e-19     1.18300e+00     unspecified\n",
    "    ```"
   ]
  },
  {
   "cell_type": "code",
   "execution_count": null,
   "id": "5f1f5b75-5468-4d3c-826e-b869d507b26b",
   "metadata": {},
   "outputs": [],
   "source": []
  }
 ],
 "metadata": {
  "kernelspec": {
   "display_name": "Python 3 (ipykernel)",
   "language": "python",
   "name": "python3"
  },
  "language_info": {
   "codemirror_mode": {
    "name": "ipython",
    "version": 3
   },
   "file_extension": ".py",
   "mimetype": "text/x-python",
   "name": "python",
   "nbconvert_exporter": "python",
   "pygments_lexer": "ipython3",
   "version": "3.8.18"
  }
 },
 "nbformat": 4,
 "nbformat_minor": 5
}
