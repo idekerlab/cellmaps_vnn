{
 "cells": [
  {
   "cell_type": "markdown",
   "id": "c52952c6-8a41-4382-9736-6e39ac66d5a7",
   "metadata": {},
   "source": [
    "# Running Cellmaps VNN with multiple training data\n",
    "\n",
    "This notebook demonstrates how to use cellmaps_vnn with five distinct training datasets. Each trained model is used to generate predictions, and the resulting system importance scores are aggregated and visualized on the hierarchy."
   ]
  },
  {
   "cell_type": "markdown",
   "id": "38de0b7a-a997-4484-96e2-46e7622d0d4c",
   "metadata": {},
   "source": [
    "### Installation\n",
    "\n",
    "It is highly recommended to create conda virtual environment and run jupyter from there.\n",
    "\n",
    "`conda create -n vnn_env python=3.11`\n",
    "\n",
    "`conda activate vnn_env`\n",
    "\n",
    "To install Cellmaps Pipeline run:\n",
    "\n",
    "`pip install cellmaps_vnn`\n",
    "\n",
    "Exit the notebook and reopen it in `vnn_env` environtment."
   ]
  },
  {
   "cell_type": "markdown",
   "id": "8a8b9592-deb0-4748-81e8-965cc5509837",
   "metadata": {},
   "source": [
    "### Drug response data\n",
    "\n",
    "First provide training datasets and testing datasets you want to run cellmaps_vnn with. Training and test data should be in separate files.\n",
    "\n",
    "- `training_data.txt`:\n",
    "    A tab-delimited file containing all data points that you want to use to train the model. The 1st column is identification of cells (genotypes), the 2nd column is a SMILES string of the drug and the 3rd column is an observed drug response in a floating point number, and the 4th column is source where the data was obtained from.\n",
    "    ```\n",
    "    HS633T_SOFT_TISSUE              CC1=C(C(=O)N(C2=NC(=NC=C12)NC3=NC=C(C=C3)N4CCNCC4)C5CCCC5)C(=O)C     0.67   GDSC2\n",
    "    KINGS1_CENTRAL_NERVOUS_SYSTEM   CC1=C(C(=O)N(C2=NC(=NC=C12)NC3=NC=C(C=C3)N4CCNCC4)C5CCCC5)C(=O)C     0.64   GDSC1\n",
    "    ```\n",
    "    <br/>\n",
    "- `test_data.txt`:\n",
    "    A tab-delimited file containing all data points that you want to estimate drug response for. The 1st column is identification of cells (genotypes), the 2nd column is a SMILES string of the drug and the 3rd column is an observed drug response in a floating point number, and the 4th column is source where the data was obtained from.\n",
    "  \n",
    "    ```\n",
    "    EW24_BONE       CC1=C(C(=O)N(C2=NC(=NC=C12)NC3=NC=C(C=C3)N4CCNCC4)C5CCCC5)C(=O)C    0.99    GDSC1\n",
    "    ES7_BONE\t    CC1=C(C(=O)N(C2=NC(=NC=C12)NC3=NC=C(C=C3)N4CCNCC4)C5CCCC5)C(=O)C\t0.65\tGDSC2\n",
    "    ```"
   ]
  },
  {
   "cell_type": "markdown",
   "id": "9a8d890b-17cb-479d-80d1-ed702eeb4d49",
   "metadata": {},
   "source": [
    "**Optional**: If you do not have your own data, but you want to run this example notebook,\n",
    "you can use the training data from example directory. Here we create 5 different training datasets using the training data. Please uncomment and run the following code."
   ]
  },
  {
   "cell_type": "code",
   "execution_count": 59,
   "id": "3394133c-7a92-4740-afe1-b96da54ef1ca",
   "metadata": {},
   "outputs": [],
   "source": [
    "# YOU DO NOT NEED TO RUN THIS STEP IF YOU PROVIDE YOUR OWN DATA\n",
    "\n",
    "import random\n",
    "\n",
    "current_path = os.getcwd()\n",
    "training_data_dir = os.path.join(current_path, 'training_data_dir')\n",
    "training_data_path = '../examples/training_data.txt'\n",
    "\n",
    "# Create output directory exists\n",
    "os.makedirs(training_data_dir, exist_ok=True)\n",
    "\n",
    "# Read all lines from the training data file\n",
    "with open(training_data_path, 'r') as f:\n",
    "    lines = f.readlines()\n",
    "\n",
    "# Determine sample size (60%)\n",
    "sample_size = int(0.6 * len(lines))\n",
    "\n",
    "# Generate and write 5 files with random 60% samples\n",
    "for i in range(1, 6):\n",
    "    sampled_lines = random.sample(lines, sample_size)\n",
    "    output_path = os.path.join(training_data_dir, f'training_data_{i}.txt')\n",
    "    with open(output_path, 'w') as out_f:\n",
    "        out_f.writelines(sampled_lines)"
   ]
  },
  {
   "cell_type": "code",
   "execution_count": 60,
   "id": "e89e69f7-73aa-490a-94a7-1fbdc005c957",
   "metadata": {},
   "outputs": [],
   "source": [
    "# Replace the path with paths to your own training data !\n",
    "\n",
    "training_data_paths = [\n",
    "    os.path.join(training_data_dir, f'training_data_{1}.txt'),\n",
    "    os.path.join(training_data_dir, f'training_data_{2}.txt'),\n",
    "    os.path.join(training_data_dir, f'training_data_{3}.txt'),\n",
    "    os.path.join(training_data_dir, f'training_data_{4}.txt'),\n",
    "    os.path.join(training_data_dir, f'training_data_{5}.txt'),\n",
    "]"
   ]
  },
  {
   "cell_type": "markdown",
   "id": "f170d7da-2fce-4ac5-9341-3776f637ef12",
   "metadata": {},
   "source": [
    "### Cell Feature Data (required for both training and prediction steps)\n",
    "\n",
    "The future data can be found in `examples` directory. The strucure and content of each file is described [here](https://cellmaps-vnn.readthedocs.io/en/latest/inputs_nestvnn.html#cell-feature-files) or in another notebook (notebooks/step-by-step-guide-run-vnn.ipynb)."
   ]
  },
  {
   "cell_type": "code",
   "execution_count": 61,
   "id": "8ac3a05e-3721-4a5a-a214-0d0e835030d5",
   "metadata": {},
   "outputs": [],
   "source": [
    "gene2id = '../examples/gene2ind.txt'\n",
    "cell2id = '../examples/cell2ind.txt'\n",
    "mutations = '../examples/cell2mutation.txt'\n",
    "cn_deletions = '../examples/cell2cndeletion.txt'\n",
    "cn_amplifications = '../examples/cell2cnamplification.txt'"
   ]
  },
  {
   "cell_type": "markdown",
   "id": "a46429c8-3eb6-4e8f-9748-2f16ea71ca50",
   "metadata": {},
   "source": [
    "## Step 1: <span style=\"color:red\">Training</span>\n",
    "\n",
    "### Input Data for Training\n",
    "Additionally to training data and feature data, the training process requires hierarchy in CX2 format to build the visible neural network. This example uses the hierarchy from `examples` directory.\n",
    "\n",
    "For required and optional arguments refer to [documentation](https://cellmaps-vnn.readthedocs.io/en/latest/usage_command_line.html#training-mode-and-prediction-and-interpretation-mode)."
   ]
  },
  {
   "cell_type": "code",
   "execution_count": 62,
   "id": "e9436a14-f631-4a7b-aabb-eff029652944",
   "metadata": {},
   "outputs": [],
   "source": [
    "hierarchy_path = '../examples/hierarchy.cx2'"
   ]
  },
  {
   "cell_type": "markdown",
   "id": "2f905eb5-b046-404d-a636-5e7e5880a992",
   "metadata": {},
   "source": [
    "### Training command\n",
    "\n",
    "Run training for each of the training datasets. Specify separate output directories (RO-Crates) where the model and other traning output files will be saved for each dataset."
   ]
  },
  {
   "cell_type": "code",
   "execution_count": 64,
   "id": "2e7fb674-40c4-49b6-b82a-9e5a46cf558e",
   "metadata": {},
   "outputs": [],
   "source": [
    "import subprocess\n",
    "\n",
    "training_out_paths = []\n",
    "\n",
    "for i, training_data_path in enumerate(training_data_paths):\n",
    "    outdir = './model_dir' + str(i)\n",
    "    training_out_paths.append(outdir)\n",
    "    command = (\n",
    "        f\"cellmaps_vnncmd.py train {outdir} --hierarchy {hierarchy_path} \"\n",
    "        f\"--gene2id {gene2id} --cell2id {cell2id} --training_data {training_data_path} \"\n",
    "        f\"--mutations {mutations} --cn_deletions {cn_deletions} \"\n",
    "        f\"--cn_amplifications {cn_amplifications}\"\n",
    "    )\n",
    "    subprocess.run(command, shell=True, check=True)"
   ]
  },
  {
   "cell_type": "markdown",
   "id": "e2b83f97-bbdf-46eb-81c3-284a98dd5133",
   "metadata": {},
   "source": [
    "## Step 2: <span style=\"color:red\">Prediction and Interpretation</span>\n",
    "\n",
    "In this step, we will test the models generated in the previous step. Each node in the hierarchy will then be assigned a score to indicate the importance of the subsystem in each model's decision-making process.\n",
    "\n",
    "### Input Data for Prediction\n",
    "\n",
    "The input of for this step is the output from training (step 1) and test data, you can use one test dataset for all the modesl or separate test datasets."
   ]
  },
  {
   "cell_type": "code",
   "execution_count": 68,
   "id": "8201adb5-9cee-49e6-8f76-ff3429830eec",
   "metadata": {},
   "outputs": [],
   "source": [
    "# In this example, we use test data from examples directory. You can use \n",
    "# the same test data for all models or use separate test data files\n",
    "test_data_paths = [ '../examples/test_data.txt' ]"
   ]
  },
  {
   "cell_type": "markdown",
   "id": "858c684d-5314-4717-b3c6-8fca019a0967",
   "metadata": {},
   "source": [
    "### Prediction and Interpretation command"
   ]
  },
  {
   "cell_type": "code",
   "execution_count": 75,
   "id": "7f55d82a-0317-4bdc-9a25-6328f4fa3b83",
   "metadata": {},
   "outputs": [
    {
     "name": "stdout",
     "output_type": "stream",
     "text": [
      "Starting prediction process\n",
      "Starting score calculation\n",
      "Prediction and interpretation executed successfully\n"
     ]
    },
    {
     "name": "stderr",
     "output_type": "stream",
     "text": [
      "/Users/jlenkiewicz/anaconda3/envs/cellmaps_env/lib/python3.8/site-packages/scipy/stats/_stats_py.py:4916: ConstantInputWarning: An input array is constant; the correlation coefficient is not defined.\n",
      "  warnings.warn(stats.ConstantInputWarning(warn_msg))\n",
      "FAIRSCAPE hidden files registration:   0%|          | 5/1698 [00:01<05:45,  4.89it/s]\n"
     ]
    },
    {
     "name": "stdout",
     "output_type": "stream",
     "text": [
      "Starting prediction process\n",
      "Starting score calculation\n"
     ]
    },
    {
     "name": "stderr",
     "output_type": "stream",
     "text": [
      "/Users/jlenkiewicz/anaconda3/envs/cellmaps_env/lib/python3.8/site-packages/scipy/stats/_stats_py.py:4916: ConstantInputWarning: An input array is constant; the correlation coefficient is not defined.\n",
      "  warnings.warn(stats.ConstantInputWarning(warn_msg))\n",
      "FAIRSCAPE hidden files registration:   0%|          | 1/1698 [00:00<04:51,  5.83it/s]"
     ]
    },
    {
     "name": "stdout",
     "output_type": "stream",
     "text": [
      "Prediction and interpretation executed successfully\n"
     ]
    },
    {
     "name": "stderr",
     "output_type": "stream",
     "text": [
      "FAIRSCAPE hidden files registration:   0%|          | 5/1698 [00:01<05:48,  4.86it/s]\n"
     ]
    },
    {
     "name": "stdout",
     "output_type": "stream",
     "text": [
      "Starting prediction process\n",
      "Starting score calculation\n",
      "Prediction and interpretation executed successfully\n"
     ]
    },
    {
     "name": "stderr",
     "output_type": "stream",
     "text": [
      "/Users/jlenkiewicz/anaconda3/envs/cellmaps_env/lib/python3.8/site-packages/scipy/stats/_stats_py.py:4916: ConstantInputWarning: An input array is constant; the correlation coefficient is not defined.\n",
      "  warnings.warn(stats.ConstantInputWarning(warn_msg))\n",
      "FAIRSCAPE hidden files registration:   0%|          | 5/1698 [00:01<05:50,  4.84it/s]\n"
     ]
    },
    {
     "name": "stdout",
     "output_type": "stream",
     "text": [
      "Starting prediction process\n",
      "Starting score calculation\n",
      "Prediction and interpretation executed successfully\n"
     ]
    },
    {
     "name": "stderr",
     "output_type": "stream",
     "text": [
      "/Users/jlenkiewicz/anaconda3/envs/cellmaps_env/lib/python3.8/site-packages/scipy/stats/_stats_py.py:4916: ConstantInputWarning: An input array is constant; the correlation coefficient is not defined.\n",
      "  warnings.warn(stats.ConstantInputWarning(warn_msg))\n",
      "FAIRSCAPE hidden files registration:   0%|          | 5/1698 [00:01<05:52,  4.81it/s]\n"
     ]
    },
    {
     "name": "stdout",
     "output_type": "stream",
     "text": [
      "Starting prediction process\n",
      "Starting score calculation\n"
     ]
    },
    {
     "name": "stderr",
     "output_type": "stream",
     "text": [
      "/Users/jlenkiewicz/anaconda3/envs/cellmaps_env/lib/python3.8/site-packages/scipy/stats/_stats_py.py:4916: ConstantInputWarning: An input array is constant; the correlation coefficient is not defined.\n",
      "  warnings.warn(stats.ConstantInputWarning(warn_msg))\n",
      "FAIRSCAPE hidden files registration:   0%|          | 1/1698 [00:00<04:50,  5.85it/s]"
     ]
    },
    {
     "name": "stdout",
     "output_type": "stream",
     "text": [
      "Prediction and interpretation executed successfully\n"
     ]
    },
    {
     "name": "stderr",
     "output_type": "stream",
     "text": [
      "FAIRSCAPE hidden files registration:   0%|          | 5/1698 [00:01<05:53,  4.79it/s]\n"
     ]
    }
   ],
   "source": [
    "predict_out_paths = []\n",
    "\n",
    "for i, train_out in enumerate(training_out_paths):\n",
    "    outdir = './test_dir' + str(i)\n",
    "    predict_out_paths.append(outdir)\n",
    "    test_data = test_data_paths[0]\n",
    "    if len(test_data_paths) == len(training_out_paths):\n",
    "        test_data = test_data_paths[i]\n",
    "    command = (\n",
    "        f\"cellmaps_vnncmd.py predict {outdir} --inputdir {train_out} \"\n",
    "        f\"--gene2id {gene2id} --cell2id {cell2id} --predict_data {test_data} \"\n",
    "        f\"--mutations {mutations} --cn_deletions {cn_deletions} \"\n",
    "        f\"--cn_amplifications {cn_amplifications}\"\n",
    "    )\n",
    "    subprocess.run(command, shell=True, check=True)"
   ]
  },
  {
   "cell_type": "markdown",
   "id": "63da6e18-7b29-4adb-994c-305409b04738",
   "metadata": {},
   "source": [
    "## Step 3: <span style=\"color:red\">Annotation and Visualization</span>\n",
    "\n",
    "In this step, the hierarchy used to build the neural network (VNN) can be annotated with system importance scores from step 2, which will aid in interpreting the results.\n",
    "\n",
    "### Input Data for Annotation\n",
    "\n",
    "The input for the annotation will be list of output directories where we saved results from test and interpretation. The results will be aggregated and the hierarchy will be annotated."
   ]
  },
  {
   "cell_type": "markdown",
   "id": "bb69adb4-9a67-4f88-aa65-e2645808311b",
   "metadata": {},
   "source": [
    "### Annotation command (without visualization in Cytoscape)"
   ]
  },
  {
   "cell_type": "code",
   "execution_count": 81,
   "id": "a3557a8c-12f2-48f6-9f63-ffc92843b705",
   "metadata": {},
   "outputs": [
    {
     "data": {
      "text/plain": [
       "CompletedProcess(args='cellmaps_vnncmd.py annotate ./annotate_dir --model_predictions ./test_dir0 ./test_dir1 ./test_dir2 ./test_dir3 ./test_dir4', returncode=0)"
      ]
     },
     "execution_count": 81,
     "metadata": {},
     "output_type": "execute_result"
    }
   ],
   "source": [
    "outdir = './annotate_dir'\n",
    "\n",
    "command = (f\"cellmaps_vnncmd.py annotate {outdir} \"\n",
    "           f\"--model_predictions \" + (\" \").join(predict_out_paths)\n",
    "          )\n",
    "subprocess.run(command, shell=True, check=True)"
   ]
  },
  {
   "cell_type": "markdown",
   "id": "778d77eb-5eaf-46c5-8deb-b239d348b44d",
   "metadata": {},
   "source": [
    "### Visualization\n",
    "\n",
    "The visualization is powered by [Cytoscape Web](http://ndexbio.org/cytoscape). \n",
    "\n",
    "To take full advantage of styling and analysis features, upload your network to NDEx. Start by creating a free [NDEx account](https://www.ndexbio.org). Once registered, you can upload your network along with the VNN hierarchy annotations.\n",
    "\n",
    "Note: To upload the hierarchy correctly, you must have access to the parent network (also known as the interactome). If the interactome is publicly available on NDEx, you can use its UUID. Otherwise, you may provide a local file path. For the hierarchy from the `examples` directory, the parent network can be found [here](https://www.ndexbio.org/viewer/networks/0b7b8aee-332f-11ef-9621-005056ae23aa).\n"
   ]
  },
  {
   "cell_type": "markdown",
   "id": "fa26c358-a382-4b7f-a231-2ecc370f67cb",
   "metadata": {},
   "source": [
    "### Anotation and Cytoscape Visualisation command\n",
    "\n",
    "Use your NDEx credentials, type your username and password when prompted below. "
   ]
  },
  {
   "cell_type": "code",
   "execution_count": 83,
   "id": "d89f4422-be4f-4843-b31e-f6f8f040417a",
   "metadata": {},
   "outputs": [
    {
     "name": "stdin",
     "output_type": "stream",
     "text": [
      " ········\n"
     ]
    }
   ],
   "source": [
    "import getpass\n",
    "\n",
    "ndexuser = getpass.getpass()"
   ]
  },
  {
   "cell_type": "code",
   "execution_count": 85,
   "id": "fef80cb8-8425-4a4f-8724-dc0501d5e959",
   "metadata": {},
   "outputs": [
    {
     "name": "stdin",
     "output_type": "stream",
     "text": [
      " ········\n"
     ]
    }
   ],
   "source": [
    "ndexpassword = getpass.getpass()"
   ]
  },
  {
   "cell_type": "code",
   "execution_count": 89,
   "id": "44f9b1fb-8ac7-4643-923a-32e446141ce1",
   "metadata": {},
   "outputs": [
    {
     "name": "stdout",
     "output_type": "stream",
     "text": [
      "Hierarchy uploaded. To view hierarchy on NDEx please paste this URL in your browser https://www.ndexbio.org/viewer/networks/753109be-577a-11f0-a218-005056ae3c32. To view Hierarchy on new experimental Cytoscape on the Web, go to https://ndexbio.org/cytoscape/0/networks/753109be-577a-11f0-a218-005056ae3c32\n"
     ]
    },
    {
     "data": {
      "text/plain": [
       "CompletedProcess(args='cellmaps_vnncmd.py annotate ./annotate_visualization_dir --model_predictions ./test_dir0 ./test_dir1 ./test_dir2 ./test_dir3 ./test_dir4 --parent_network 0b7b8aee-332f-11ef-9621-005056ae23aa --ndexuser jlenkiewicz@ucsd.edu --ndexpassword testjlenkiewicz --visibility', returncode=0)"
      ]
     },
     "execution_count": 89,
     "metadata": {},
     "output_type": "execute_result"
    }
   ],
   "source": [
    "outdir = './annotate_visualization_dir'\n",
    "\n",
    "\n",
    "command = (f\"cellmaps_vnncmd.py annotate {outdir} \"\n",
    "           f\"--model_predictions \" + (\" \").join(predict_out_paths) +\n",
    "           f\" --parent_network 0b7b8aee-332f-11ef-9621-005056ae23aa --ndexuser {ndexuser} \"\n",
    "           f\"--ndexpassword {ndexpassword} --visibility\"\n",
    "          )\n",
    "subprocess.run(command, shell=True, check=True)"
   ]
  },
  {
   "cell_type": "markdown",
   "id": "7e9cecc1-0f9b-4bef-9017-2abd3ccbe72f",
   "metadata": {},
   "source": [
    "### Viewing the Hierarchy Locally with Cytoscape Web\n",
    "\n",
    "You can also view the annotated hierarchy locally without an NDEx account. While local visualization may have limited styling and analysis capabilities, it still offers a useful overview of the network structure and the important systems for prediction."
   ]
  },
  {
   "cell_type": "code",
   "execution_count": 102,
   "id": "33600b90-442a-4225-aa11-b3303091f3b9",
   "metadata": {},
   "outputs": [
    {
     "name": "stdout",
     "output_type": "stream",
     "text": [
      "https://ndexbio.org/cytoscape/?import=http://localhost:8888/files/notebooks/annotate_dir/hierarchy.cx2?token=2f7e10791fa59bf375dfee47c9cd1d69534127f0c71b9058\n"
     ]
    }
   ],
   "source": [
    "import subprocess\n",
    "import re\n",
    "import os\n",
    "from ndex2.cx2 import RawCX2NetworkFactory\n",
    "\n",
    "def get_jupyter_server_info():\n",
    "    output = subprocess.check_output([\"jupyter\", \"server\", \"list\"]).decode('utf-8')\n",
    "    token = re.search(r\"(?<=token=)[a-f\\d]+\", output)\n",
    "    jupyter_path = output.split()[-1].strip()\n",
    "    return token.group(0) if token else None, jupyter_path\n",
    "\n",
    "def get_current_directory(jupyter_path):\n",
    "    return os.getcwd().replace(jupyter_path, \"\")\n",
    "\n",
    "token, jupyter_path = get_jupyter_server_info()\n",
    "files_path = get_current_directory(jupyter_path)\n",
    "\n",
    "# Adjust to your network specifics\n",
    "annotate_dir = \"annotate_dir\"\n",
    "hierarchy_path = os.path.join(annotate_dir, 'hierarchy.cx2')\n",
    "ndex_host = \"ndexbio.org\"\n",
    "uuid_interactome = \"753109be-577a-11f0-a218-005056ae3c32\"\n",
    "\n",
    "updated_hierarchy_path = update_hcx_annotations(annotate_dir, ndex_host, uuid_interactome)\n",
    "print(f\"https://ndexbio.org/cytoscape/?import=http://localhost:8888/files{get_current_directory(jupyter_path)}/{hierarchy_path}?token={token}\")"
   ]
  },
  {
   "cell_type": "code",
   "execution_count": null,
   "id": "ba6b9f34-676d-47a7-8e43-9966740c6d1f",
   "metadata": {},
   "outputs": [],
   "source": []
  }
 ],
 "metadata": {
  "kernelspec": {
   "display_name": "Python 3 (ipykernel)",
   "language": "python",
   "name": "python3"
  },
  "language_info": {
   "codemirror_mode": {
    "name": "ipython",
    "version": 3
   },
   "file_extension": ".py",
   "mimetype": "text/x-python",
   "name": "python",
   "nbconvert_exporter": "python",
   "pygments_lexer": "ipython3",
   "version": "3.8.18"
  }
 },
 "nbformat": 4,
 "nbformat_minor": 5
}
